{
  "nbformat": 4,
  "nbformat_minor": 0,
  "metadata": {
    "colab": {
      "provenance": [],
      "mount_file_id": "1jzwzHcn8Saf3Zh_1fZ4YURZhnpy4Utwz",
      "authorship_tag": "ABX9TyNVpaEFFxbIg6381/VQNzd8",
      "include_colab_link": true
    },
    "kernelspec": {
      "name": "python3",
      "display_name": "Python 3"
    },
    "language_info": {
      "name": "python"
    }
  },
  "cells": [
    {
      "cell_type": "markdown",
      "metadata": {
        "id": "view-in-github",
        "colab_type": "text"
      },
      "source": [
        "<a href=\"https://colab.research.google.com/github/MrInvalida/sample/blob/main/Firstnotebook.ipynb\" target=\"_parent\"><img src=\"https://colab.research.google.com/assets/colab-badge.svg\" alt=\"Open In Colab\"/></a>"
      ]
    },
    {
      "cell_type": "code",
      "execution_count": null,
      "metadata": {
        "colab": {
          "base_uri": "https://localhost:8080/"
        },
        "id": "XNtUA90s-tB9",
        "outputId": "1446d432-3b36-4994-db67-1cc73347fdc1"
      },
      "outputs": [
        {
          "output_type": "stream",
          "name": "stdout",
          "text": [
            "Hello, world!\n"
          ]
        }
      ],
      "source": [
        "print(\"Hello, world!\")"
      ]
    },
    {
      "cell_type": "markdown",
      "source": [
        "Esta forma de documentar la informacion esta muy interesante"
      ],
      "metadata": {
        "id": "b_rtocqVDpnv"
      }
    },
    {
      "cell_type": "markdown",
      "source": [],
      "metadata": {
        "id": "vEsEcHLwDpXq"
      }
    },
    {
      "cell_type": "markdown",
      "source": [
        "# Heading 1\n",
        "\n",
        "You can write sentences in Markdown notation.\n",
        "\n",
        "## Heading 2\n",
        "\n",
        "**strong**\n",
        "\n",
        "You can also write formulas.\n",
        "\n",
        "$$\n",
        "y=2x+1\n",
        "$$\n",
        "\n",
        "When writing Python code, use code blocks.\n",
        "\n",
        "```python\n",
        "print(\"Hello, World!\")\n",
        "```\n",
        "\n",
        "- Unordered Lists\n",
        "- Unordered Lists\n",
        "  - Unordered Lists\n",
        "\n",
        "> blockquotes\n",
        "\n",
        "\n"
      ],
      "metadata": {
        "id": "y6bWMW7cE4-9"
      }
    }
  ]
}